{
 "cells": [
  {
   "cell_type": "markdown",
   "metadata": {},
   "source": [
    "# Gettting started with GROQ_API "
   ]
  },
  {
   "cell_type": "code",
   "execution_count": 1,
   "metadata": {},
   "outputs": [],
   "source": [
    "import os \n",
    "from dotenv import load_dotenv\n",
    "load_dotenv()\n",
    "groq_api_key=os.getenv(\"GROQ_API_KEY\")"
   ]
  },
  {
   "cell_type": "code",
   "execution_count": 2,
   "metadata": {},
   "outputs": [
    {
     "name": "stdout",
     "output_type": "stream",
     "text": [
      "Loaded API Key: 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\n"
     ]
    }
   ],
   "source": [
    "# Fetch the Groq API key\n",
    "groq_api_key = os.getenv(\"GROQ_API_KEY\")\n",
    "print(f\"Loaded API Key: {groq_api_key}\") "
   ]
  },
  {
   "cell_type": "markdown",
   "metadata": {},
   "source": [
    "### Model used is The Gemma 2-9B IT \n",
    "* model is a large language model developed by Google and supported by Groq1\n",
    "* Here are some key details about it:\n",
    "* Developer: Google1\n",
    "* Model Size: 9 billion parameters1\n",
    "* Context Window: 8,192 tokens2\n",
    "* Use Cases: Text generation, question answering, summarization, and reasoning1\n",
    "* Performance: Designed for high performance and efficiency, making it suitable for both online and offline applications3"
   ]
  },
  {
   "cell_type": "code",
   "execution_count": 3,
   "metadata": {},
   "outputs": [
    {
     "data": {
      "text/plain": [
       "ChatGroq(client=<groq.resources.chat.completions.Completions object at 0x00000163580CE3B0>, async_client=<groq.resources.chat.completions.AsyncCompletions object at 0x00000163580FC160>, model_name='Gemma2-9b-It', model_kwargs={}, groq_api_key=SecretStr('**********'))"
      ]
     },
     "execution_count": 3,
     "metadata": {},
     "output_type": "execute_result"
    }
   ],
   "source": [
    "from langchain_groq import ChatGroq\n",
    "# Initialize Groq API client with the new API key\n",
    "model=ChatGroq(model=\"Gemma2-9b-It\",groq_api_key=groq_api_key)\n",
    "model"
   ]
  },
  {
   "cell_type": "markdown",
   "metadata": {},
   "source": [
    "# Building simple LLM ,Prompt and StroutputCHains with LCEL"
   ]
  },
  {
   "cell_type": "code",
   "execution_count": 4,
   "metadata": {},
   "outputs": [],
   "source": [
    "from langchain_core.messages import HumanMessage,SystemMessage"
   ]
  },
  {
   "cell_type": "code",
   "execution_count": 5,
   "metadata": {},
   "outputs": [],
   "source": [
    "messages=[\n",
    "    SystemMessage(content=\"You are helpful assistant. PLease provide me clar and concise answer for question asked\"),\n",
    "    HumanMessage(content=\"What is Langchain?\")\n",
    "]"
   ]
  },
  {
   "cell_type": "code",
   "execution_count": 6,
   "metadata": {},
   "outputs": [
    {
     "data": {
      "text/plain": [
       "[SystemMessage(content='You are helpful assistant. PLease provide me clar and concise answer for question asked', additional_kwargs={}, response_metadata={}),\n",
       " HumanMessage(content='What is Langchain?', additional_kwargs={}, response_metadata={})]"
      ]
     },
     "execution_count": 6,
     "metadata": {},
     "output_type": "execute_result"
    }
   ],
   "source": [
    "messages"
   ]
  },
  {
   "cell_type": "code",
   "execution_count": 7,
   "metadata": {},
   "outputs": [
    {
     "data": {
      "text/plain": [
       "AIMessage(content='LangChain is a framework for developing applications with large language models (LLMs). \\n\\nThink of it as a toolkit that helps you build more powerful and flexible AI applications by:\\n\\n* **Connecting LLMs to other data sources:**  It lets you combine the power of LLMs with your own databases, APIs, and files.\\n* **Creating complex workflows:** You can chain together multiple LLMs and tools to perform sophisticated tasks.\\n* **Improving LLM performance:** It provides techniques for fine-tuning LLMs and managing their outputs.\\n\\n\\nEssentially, LangChain makes it easier to build practical and useful applications using the latest AI technology.\\n', additional_kwargs={}, response_metadata={'token_usage': {'completion_tokens': 133, 'prompt_tokens': 30, 'total_tokens': 163, 'completion_time': 0.241818182, 'prompt_time': 0.000135849, 'queue_time': 0.013636401, 'total_time': 0.241954031}, 'model_name': 'Gemma2-9b-It', 'system_fingerprint': 'fp_10c08bf97d', 'finish_reason': 'stop', 'logprobs': None}, id='run-6cc99cc6-6907-4569-984d-e6a8706fd882-0', usage_metadata={'input_tokens': 30, 'output_tokens': 133, 'total_tokens': 163})"
      ]
     },
     "execution_count": 7,
     "metadata": {},
     "output_type": "execute_result"
    }
   ],
   "source": [
    "model.invoke(messages)"
   ]
  },
  {
   "cell_type": "code",
   "execution_count": 8,
   "metadata": {},
   "outputs": [],
   "source": [
    "# Define the system message\n",
    "system_message = SystemMessage(content=\"You are a helpful assistant. Please respond to questions clearly and concisely.\")"
   ]
  },
  {
   "cell_type": "code",
   "execution_count": 9,
   "metadata": {},
   "outputs": [],
   "source": [
    "#Function to ask question from user \n",
    "def ask_question(question):\n",
    "    human_message=HumanMessage(content=f\"question:{question}\")\n",
    "    message=[system_message,human_message]\n",
    "    response=model.invoke(message)\n",
    "    response = response.content\n",
    "    return response"
   ]
  },
  {
   "cell_type": "code",
   "execution_count": 10,
   "metadata": {},
   "outputs": [
    {
     "data": {
      "text/plain": [
       "'LangChain is a framework for developing applications powered by large language models (LLMs).  \\n\\nIt provides tools to:\\n\\n* **Chain together LLMs with other AI tools** (databases, APIs)\\n* **Manage LLM memory** for more complex interactions\\n* **Create agents** that can autonomously perform tasks \\n\\n\\nEssentially, it simplifies building sophisticated applications using the power of LLMs.\\n'"
      ]
     },
     "execution_count": 10,
     "metadata": {},
     "output_type": "execute_result"
    }
   ],
   "source": [
    "question=\"What is Langchain?\"\n",
    "ask_question(question)"
   ]
  },
  {
   "cell_type": "code",
   "execution_count": 11,
   "metadata": {},
   "outputs": [
    {
     "data": {
      "text/plain": [
       "\"A Turing Machine is a theoretical model of computation, conceived by Alan Turing in 1936. It's essentially an abstract machine that can perform any computation that a modern computer can, given enough time and memory. \\n\\nHere's a breakdown of its key components:\\n\\n* **Tape:** An infinitely long strip divided into cells, each capable of holding a single symbol from a finite alphabet.\\n\\n* **Head:** A device that can read and write symbols on the tape. It can move left or right along the tape, one cell at a time.\\n\\n* **State Register:** Holds the current state of the machine, which determines its next action.\\n\\n* **Transition Function:**  A set of rules that dictates how the machine operates based on its current state and the symbol it reads.  Each rule specifies:\\n    * A new state for the machine.\\n    * A new symbol to write on the tape.\\n    * The direction to move the head (left, right, or stay put).\\n\\n**How it Works:**\\n\\n1. The Turing Machine starts in a designated initial state with an input sequence on the tape.\\n2. The head reads the first symbol.\\n3. The transition function determines the next state, the symbol to write, and the head's movement direction.\\n4. These actions are carried out, and the process repeats, reading, writing, and moving until a designated halt state is reached.\\n\\n**Power and Limitations:**\\n\\n* **Universality:** Turing Machines are **universal**, meaning any algorithm can be simulated by a Turing Machine. This makes them a fundamental concept in computer science.\\n* **Physical Realization:** Turing Machines are theoretical constructs.  They haven't been physically built with infinite tapes and instantaneous transitions.\\n\\n**Analogies:**\\n\\n* **Recipe:** Think of the transition function as a recipe. It tells you what ingredients (symbols) to use and how to transform them (write new symbols) based on the current stage (state) of the recipe.\\n* **Computer Program:** A Turing Machine's behavior is similar to a computer program. It follows a set of instructions (transition function) to process data (symbols on the tape).\\n\\n**Significance:**\\n\\nTuring Machines are crucial for understanding the limits of computation. They provide a framework for:\\n\\n* **Defining what is computable:**  Algorithms that can be implemented on a Turing Machine are considered computable.\\n* **Classifying problems:**  Problems can be classified based on whether they can be solved by a Turing Machine in polynomial time (efficiently) or not (intractable).\\n\\n\\nLet me know if you have any more questions or want to delve into specific aspects!\\n\""
      ]
     },
     "execution_count": 11,
     "metadata": {},
     "output_type": "execute_result"
    }
   ],
   "source": [
    "question=\"What is Turing Machine please explain in detail?\"\n",
    "ask_question(question)"
   ]
  },
  {
   "cell_type": "code",
   "execution_count": 12,
   "metadata": {},
   "outputs": [],
   "source": [
    "def ask_question(question):\n",
    "    # Create a human message\n",
    "    human_message = HumanMessage(content=f\"Question: {question}\")\n",
    "    \n",
    "    # Combine the messages\n",
    "    messages = [system_message, human_message]\n",
    "    \n",
    "    # Generate response using the model\n",
    "    try:\n",
    "        response = model.invoke(messages)\n",
    "        # Extract and return the content, removing extra newline characters\n",
    "        cleaned_response = response.content.replace(\"\\n\", \" \").strip()\n",
    "        return cleaned_response\n",
    "    except Exception as e:\n",
    "        return f\"Error generating response: {e}\""
   ]
  },
  {
   "cell_type": "code",
   "execution_count": 13,
   "metadata": {},
   "outputs": [
    {
     "data": {
      "text/plain": [
       "'A Turing Machine is a theoretical model of computation that captures the essence of how computers work.    Here\\'s a detailed explanation:  **Core Components:**  * **Tape:** An infinitely long strip divided into cells. Each cell can hold a single symbol from a finite alphabet. * **Head:**  A device that reads and writes symbols on the tape. It can move left or right along the tape, one cell at a time. * **State Register:** Holds the current state of the machine, which dictates its actions. There are a finite number of states. * **Transition Function:** This is the machine\\'s \"brain.\" It defines how the machine behaves based on its current state and the symbol it reads. It specifies:     * The next state the machine will enter.     * The symbol to write on the tape.     * The direction the head should move (left or right).  **How it Works:**  1. **Initialization:** The machine starts in a designated initial state with an input string written on the tape. 2. **Step-by-Step Execution:**  The machine follows these steps repeatedly:    * **Read:** The head reads the symbol currently under it.    * **Determine Next Action:** The transition function is consulted based on the current state and read symbol.    * **Write and Move:** The machine writes a new symbol onto the tape (overwriting the old one), transitions to the new state, and moves the head left or right. 3. **Halting:** The machine eventually enters a designated \"halt\" state, indicating the computation is complete.  **Key Points:**  * **Universality:** Turing Machines are **universal** – any computational problem that can be solved by an algorithm can be solved by a Turing Machine. * **Theoretical Foundation:**  Turing Machines are a theoretical model, not a physical machine. They provide a powerful framework for understanding the limits of computation. * **Variations:**  While the basic concept is simple, variations of Turing Machines exist with different tape structures, multiple heads, and other modifications.  **Analogy:**  Think of a Turing Machine like a very simple computer program.  The tape is like memory, the head is like the processor, the states represent different stages of the program, and the transition function is the set of instructions that tell the program what to do at each step.   Let me know if you have any more questions!'"
      ]
     },
     "execution_count": 13,
     "metadata": {},
     "output_type": "execute_result"
    }
   ],
   "source": [
    "question=\"What is Turing Machine please explain in detail?\"\n",
    "ask_question(question)"
   ]
  },
  {
   "cell_type": "code",
   "execution_count": null,
   "metadata": {},
   "outputs": [],
   "source": []
  }
 ],
 "metadata": {
  "kernelspec": {
   "display_name": "langchain",
   "language": "python",
   "name": "python3"
  },
  "language_info": {
   "codemirror_mode": {
    "name": "ipython",
    "version": 3
   },
   "file_extension": ".py",
   "mimetype": "text/x-python",
   "name": "python",
   "nbconvert_exporter": "python",
   "pygments_lexer": "ipython3",
   "version": "3.10.0"
  }
 },
 "nbformat": 4,
 "nbformat_minor": 2
}
