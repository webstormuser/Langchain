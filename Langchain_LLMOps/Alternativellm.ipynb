{
 "cells": [
  {
   "cell_type": "code",
   "execution_count": 1,
   "metadata": {},
   "outputs": [],
   "source": [
    "import os\n",
    "from dotenv import load_dotenv, find_dotenv\n",
    "_ = load_dotenv(find_dotenv())"
   ]
  },
  {
   "cell_type": "markdown",
   "metadata": {},
   "source": [
    "# Alternative Model without openAI credential and its free open source"
   ]
  },
  {
   "cell_type": "code",
   "execution_count": 2,
   "metadata": {},
   "outputs": [],
   "source": [
    "from langchain_groq import ChatGroq\n",
    "\n",
    "llamaChatModel = ChatGroq(\n",
    "    model=\"llama3-70b-8192\"\n",
    ")"
   ]
  },
  {
   "cell_type": "code",
   "execution_count": 3,
   "metadata": {},
   "outputs": [],
   "source": [
    "mistralChatModel = ChatGroq(\n",
    "    model=\"mixtral-8x7b-32768\"\n",
    ")"
   ]
  },
  {
   "cell_type": "code",
   "execution_count": 15,
   "metadata": {},
   "outputs": [],
   "source": [
    "messages = [\n",
    "    (\"system\", \"You are an historian expert in the Ratan Tata family.\"),\n",
    "    (\"human\", \"Can you tell me about Ratan Tata industries?\")\n",
    "]"
   ]
  },
  {
   "cell_type": "code",
   "execution_count": 16,
   "metadata": {},
   "outputs": [],
   "source": [
    "llmaresponse = llamaChatModel.invoke(messages)"
   ]
  },
  {
   "cell_type": "code",
   "execution_count": 17,
   "metadata": {},
   "outputs": [
    {
     "name": "stdout",
     "output_type": "stream",
     "text": [
      "What an honor to talk about the legendary Tata group! As an historian expert on the Ratan Tata family, I'd be delighted to share with you the fascinating story of the Tata industries.\n",
      "\n",
      "The Tata group, founded by Jamsetji Nusserwanji Tata in 1868, is one of India's largest and most respected business conglomerates. Ratan Tata, the great-grandson of Jamsetji, played a pivotal role in transforming the group into a global powerhouse during his tenure as Chairman from 1991 to 2012.\n",
      "\n",
      "Under Ratan Tata's visionary leadership, the Tata group expanded its presence across various sectors, including:\n",
      "\n",
      "1. **Automotive**: Tata Motors, founded in 1945, is one of India's largest automobile companies. Ratan Tata oversaw the acquisition of Jaguar Land Rover in 2008, marking a significant milestone in the company's global expansion.\n",
      "2. **Steel**: Tata Steel, established in 1907, is one of the world's top steel producers. Ratan Tata successfully navigated the company through challenging times, including the acquisition of Corus Group in 2007.\n",
      "3. **Power**: Tata Power, founded in 1919, is a leading Indian power generation company. Ratan Tata guided the company's expansion into renewable energy sources, such as wind and solar power.\n",
      "4. **Chemicals**: Tata Chemicals, established in 1939, is a major player in the Indian chemicals industry. Ratan Tata oversaw the company's diversification into new areas, including fertilizers and crop protection.\n",
      "5. **Hotels**: The Indian Hotels Company Limited (IHCL), founded in 1899, is the parent company of the Taj Hotels Resorts and Palaces. Ratan Tata led the expansion of the Taj brand globally, with iconic properties like the Taj Mahal Palace in Mumbai and the Pierre in New York City.\n",
      "6. **IT and Consulting**: Tata Consultancy Services (TCS), founded in 1968, is one of the largest IT services companies in the world. Ratan Tata played a key role in TCS's expansion into new markets and services.\n",
      "7. **Airlines**: Tata Sons, the holding company of the Tata group, has a significant stake in AirAsia India and Vistara, two prominent Indian airlines.\n",
      "\n",
      "Ratan Tata's leadership was marked by several key characteristics:\n",
      "\n",
      "* **Innovative spirit**: He encouraged entrepreneurship and innovation within the group, fostering a culture of experimentation and risk-taking.\n",
      "* **Global expansion**: He successfully led the group's expansion into international markets, creating a global footprint for Tata companies.\n",
      "* **Sustainability**: Ratan Tata emphasized the importance of corporate social responsibility, sustainability, and environmental stewardship across the group's operations.\n",
      "* **Talent development**: He believed in nurturing leadership talent from within the organization, ensuring a strong succession pipeline.\n",
      "\n",
      "During his tenure, Ratan Tata received numerous accolades, including the Padma Bhushan and Padma Vibhushan, two of India's highest civilian honors. He is widely respected for his vision, leadership, and contributions to Indian industry and society.\n",
      "\n",
      "In summary, the Tata group, under Ratan Tata's leadership, has evolved into a global conglomerate with a diverse portfolio of businesses, a strong commitment to sustainability, and a reputation for excellence.\n"
     ]
    }
   ],
   "source": [
    "print(llmaresponse.content)"
   ]
  },
  {
   "cell_type": "code",
   "execution_count": 18,
   "metadata": {},
   "outputs": [],
   "source": [
    "mistraresponse = mistralChatModel.invoke(messages)"
   ]
  },
  {
   "cell_type": "code",
   "execution_count": 19,
   "metadata": {},
   "outputs": [
    {
     "name": "stdout",
     "output_type": "stream",
     "text": [
      "I am an AI language model and while I can provide you with general information about Ratan Tata and the Tata Group, I cannot claim to be an \"historian expert\" in the Ratan Tata family. Ratan Tata is an Indian industrialist, businessman, and philanthropist, who served as the chairman of Tata Sons, the holding company of the Tata Group, from 1991 to 2014. The Tata Group is an Indian multinational conglomerate, headquartered in Mumbai, India. It was founded by Jamsetji Tata in 1868.\n",
      "\n",
      "The Tata Group operates in more than 100 countries across six continents, with a mission 'to improve the quality of life of the communities we serve globally, through long-term stakeholder value creation based on Leadership with Trust'. The Group has companies in various sectors such as steel, automotive, telecommunications, information technology, energy, hospitality, and consumer products.\n",
      "\n",
      "Ratan Tata is credited with transforming the Tata Group into a global business empire. During his tenure, he led the Tata Group's acquisition of several international companies, including Tetley, Corus, and Jaguar Land Rover. Under his leadership, the Tata Group's revenue grew manifold and its market capitalization increased significantly.\n",
      "\n",
      "It's important to note that Ratan Tata did not found the Tata Group or Ratan Tata Industries. He is part of the Tata family, which has been involved in the management of the Tata Group for several generations. Ratan Tata Industries is not a separate entity, but a part of the larger Tata Group conglomerate.\n"
     ]
    }
   ],
   "source": [
    "print(mistraresponse.content)"
   ]
  },
  {
   "cell_type": "code",
   "execution_count": null,
   "metadata": {},
   "outputs": [],
   "source": []
  }
 ],
 "metadata": {
  "kernelspec": {
   "display_name": "langchain",
   "language": "python",
   "name": "python3"
  },
  "language_info": {
   "codemirror_mode": {
    "name": "ipython",
    "version": 3
   },
   "file_extension": ".py",
   "mimetype": "text/x-python",
   "name": "python",
   "nbconvert_exporter": "python",
   "pygments_lexer": "ipython3",
   "version": "3.10.0"
  }
 },
 "nbformat": 4,
 "nbformat_minor": 2
}
