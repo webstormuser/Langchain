{
 "cells": [
  {
   "cell_type": "markdown",
   "metadata": {},
   "source": [
    "# LangChain Runnables Overview\n",
    "* Core Concept\n",
    "*  A Runnable is the basic unit of computation in LangChain. It's an abstract interface that represents anything that can take an input and return an output.\n",
    "Main Types of Runnables\n",
    "1. RunnablePassthrough\n",
    "2. RunnableLambda\n",
    "3. RunnableSequence\n",
    "4. RunnableParallel\n",
    "5. RunnableMap\n",
    "\n",
    "* Key Features of Runnables\n",
    "\n",
    "- Invoke Methods\n",
    "1. invoke(): Single synchronous execution\n",
    "2. ainvoke(): Single asynchronous execution\n",
    "3. batch(): Multiple parallel synchronous executions\n",
    "4. abatch(): Multiple parallel asynchronous executions\n",
    "5. stream(): Streaming execution\n",
    "6. astream(): Asynchronous streaming execution\n",
    "\n",
    "\n",
    "\n"
   ]
  },
  {
   "cell_type": "code",
   "execution_count": 1,
   "metadata": {},
   "outputs": [
    {
     "data": {
      "text/plain": [
       "ChatGroq(client=<groq.resources.chat.completions.Completions object at 0x00000221CA7DE3B0>, async_client=<groq.resources.chat.completions.AsyncCompletions object at 0x00000221CA8084C0>, model_name='Gemma2-9b-It', model_kwargs={}, groq_api_key=SecretStr('**********'))"
      ]
     },
     "execution_count": 1,
     "metadata": {},
     "output_type": "execute_result"
    }
   ],
   "source": [
    "import os \n",
    "from dotenv import load_dotenv\n",
    "from langchain_groq import ChatGroq\n",
    "load_dotenv()\n",
    "groq_api_key=os.getenv(\"GROQ_API_KEY\")\n",
    "# Initialize Groq API client with the new API key\n",
    "model=ChatGroq(model=\"Gemma2-9b-It\",groq_api_key=groq_api_key)\n",
    "model"
   ]
  },
  {
   "cell_type": "markdown",
   "metadata": {},
   "source": [
    "# Runnable passthrough\n",
    "it does not do any thing to the output .it is used for accepting user input as it "
   ]
  },
  {
   "cell_type": "code",
   "execution_count": 2,
   "metadata": {},
   "outputs": [
    {
     "data": {
      "text/plain": [
       "'Hi Welcome to new world!!'"
      ]
     },
     "execution_count": 2,
     "metadata": {},
     "output_type": "execute_result"
    }
   ],
   "source": [
    "from langchain_core.runnables import RunnablePassthrough\n",
    "chain = RunnablePassthrough()\n",
    "chain.invoke(\"Hi Welcome to new world!!\")"
   ]
  },
  {
   "cell_type": "markdown",
   "metadata": {},
   "source": [
    "# Runnable Lambda \n",
    "* Data Transformation\n",
    "1. Converting between data types\n",
    "2. Formatting strings\n",
    "3. Restructuring dictionaries/lists\n",
    "\n",
    "* Input/Output Processing\n",
    "1. Validating inputs before they reach the model\n",
    "2. Formatting outputs after model generation\n",
    "3. Cleaning and normalizing data\n",
    "\n",
    "* Chain Components\n",
    "1. Adding custom logic between chain steps\n",
    "2. Implementing conditional routing\n",
    "* Preprocessing prompts\n",
    "* Error Handling\n",
    "* Wrapping operations in try/catch blocks\n",
    "* Validating inputs\n",
    "* Providing fallback behavior\n",
    "* Integration Points\n",
    "    1. Connecting external APIs\n",
    "    2. Implementing custom business logic\n",
    "    3. Managing state between operations"
   ]
  },
  {
   "cell_type": "code",
   "execution_count": 3,
   "metadata": {},
   "outputs": [],
   "source": [
    "from langchain_core.runnables import RunnableLambda\n",
    "from typing import List,Dict\n",
    "import json"
   ]
  },
  {
   "cell_type": "code",
   "execution_count": 21,
   "metadata": {},
   "outputs": [],
   "source": [
    "def process_user_data(data: Dict) -> Dict:\n",
    "    return {\n",
    "        \"full_name\": f\"{data['first_name']} {data['last_name']}\",\n",
    "        \"email_domain\": data['email'].split('@')[1],\n",
    "        \"age_group\": \"Adult\" if data['age'] >= 18 else \"Minor\"\n",
    "    }\n",
    "\n",
    "user_processor = RunnableLambda(process_user_data)\n",
    "user = {\n",
    "    \"first_name\": \"John\",\n",
    "    \"last_name\": \"Doe\",\n",
    "    \"email\": \"john@example.com\",\n",
    "    \"age\": 25\n",
    "}\n",
    "processed = user_processor.invoke(user)"
   ]
  },
  {
   "cell_type": "code",
   "execution_count": 22,
   "metadata": {},
   "outputs": [
    {
     "data": {
      "text/plain": [
       "{'full_name': 'John Doe', 'email_domain': 'example.com', 'age_group': 'Adult'}"
      ]
     },
     "execution_count": 22,
     "metadata": {},
     "output_type": "execute_result"
    }
   ],
   "source": [
    "processed"
   ]
  },
  {
   "cell_type": "code",
   "execution_count": 25,
   "metadata": {},
   "outputs": [
    {
     "data": {
      "text/plain": [
       "{'full_name': 'John Doe', 'email_domain': 'example.com', 'age_group': 'Adult'}"
      ]
     },
     "execution_count": 25,
     "metadata": {},
     "output_type": "execute_result"
    }
   ],
   "source": [
    "chain = RunnablePassthrough()|RunnableLambda(process_user_data)\n",
    "chain.invoke(user)"
   ]
  },
  {
   "cell_type": "markdown",
   "metadata": {},
   "source": [
    "# Runnable Parallel"
   ]
  },
  {
   "cell_type": "code",
   "execution_count": 26,
   "metadata": {},
   "outputs": [],
   "source": [
    "from langchain_core.runnables import RunnableParallel"
   ]
  },
  {
   "cell_type": "code",
   "execution_count": 27,
   "metadata": {},
   "outputs": [],
   "source": [
    "chain=RunnableParallel(\n",
    "    {\"operation a\":RunnablePassthrough(),\n",
    "     \"operation b\":RunnableLambda(process_user_data)\n",
    "    }\n",
    ")"
   ]
  },
  {
   "cell_type": "code",
   "execution_count": 28,
   "metadata": {},
   "outputs": [
    {
     "data": {
      "text/plain": [
       "{\n",
       "  operation a: RunnablePassthrough(),\n",
       "  operation b: RunnableLambda(process_user_data)\n",
       "}"
      ]
     },
     "execution_count": 28,
     "metadata": {},
     "output_type": "execute_result"
    }
   ],
   "source": [
    "chain"
   ]
  },
  {
   "cell_type": "code",
   "execution_count": 29,
   "metadata": {},
   "outputs": [
    {
     "data": {
      "text/plain": [
       "{'operation a': {'first_name': 'John',\n",
       "  'last_name': 'Doe',\n",
       "  'email': 'john@example.com',\n",
       "  'age': 25},\n",
       " 'operation b': {'full_name': 'John Doe',\n",
       "  'email_domain': 'example.com',\n",
       "  'age_group': 'Adult'}}"
      ]
     },
     "execution_count": 29,
     "metadata": {},
     "output_type": "execute_result"
    },
    {
     "ename": "",
     "evalue": "",
     "output_type": "error",
     "traceback": [
      "\u001b[1;31mThe Kernel crashed while executing code in the current cell or a previous cell. \n",
      "\u001b[1;31mPlease review the code in the cell(s) to identify a possible cause of the failure. \n",
      "\u001b[1;31mClick <a href='https://aka.ms/vscodeJupyterKernelCrash'>here</a> for more info. \n",
      "\u001b[1;31mView Jupyter <a href='command:jupyter.viewOutput'>log</a> for further details."
     ]
    }
   ],
   "source": [
    "chain.invoke(user)"
   ]
  },
  {
   "cell_type": "code",
   "execution_count": null,
   "metadata": {},
   "outputs": [],
   "source": []
  }
 ],
 "metadata": {
  "kernelspec": {
   "display_name": "langchain",
   "language": "python",
   "name": "python3"
  },
  "language_info": {
   "codemirror_mode": {
    "name": "ipython",
    "version": 3
   },
   "file_extension": ".py",
   "mimetype": "text/x-python",
   "name": "python",
   "nbconvert_exporter": "python",
   "pygments_lexer": "ipython3",
   "version": "3.10.0"
  }
 },
 "nbformat": 4,
 "nbformat_minor": 2
}
